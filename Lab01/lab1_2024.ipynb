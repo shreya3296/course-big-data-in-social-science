{
 "cells": [
  {
   "cell_type": "markdown",
   "id": "1868b5f4-95df-4a56-aa52-006ed6945e53",
   "metadata": {},
   "source": [
    "# Lab 1: Introductory Statistical Concepts and Statistical Computing\n",
    "\n",
    "## Methods/concepts: histograms, means, quantiles, indicator variables, rank transformation, bin scatters, and random assignment\n",
    "\n",
    "**Name:** [Gregory Bruich, Ph.D. replace with YOUR name]\n",
    "\n",
    "**Email:** [Replace with YOUR email]\n",
    "\n",
    "**HUID:** [Replace with YOUR HUID]\n",
    "\n",
    "**Lab:** [Thursday/Friday HH 202, - replace with YOUR lab]\n",
    "\n",
    "**Date:** [replace withd date of YOUR lab]"
   ]
  },
  {
   "cell_type": "markdown",
   "id": "3e798488-82a1-4e34-95e9-bd5036e1c452",
   "metadata": {},
   "source": [
    "**LAB DESCRIPTION**\n",
    "\n",
    "The goal of this first lab is to acquire some familiarity working with data in statistical software. This lab uses an extract from the 1966 and 1979 National Longitudinal Survey called **nls6679.dta**. For more details on the variables included in these data, see [Table 1](#Table1). A list and description of each of the R commands needed for this lab are contained in [Table 2](#TABLE-2:-R-Commands). You should have these commands next to you as you work through the lab."
   ]
  },
  {
   "cell_type": "markdown",
   "id": "186253e7-4b55-4e19-a1a1-67178396531a",
   "metadata": {},
   "source": [
    "### Set up\n",
    "\n",
    "Start by loading some libraries that we will need for this lab: the <code>tidyverse</code> family of commands, <code>haven</code> to open Stata formatted data sets, and <code>ggplot2</code> for some of the graphs.  These first three have already been installed to the Jupyter Hub. You can ignore messages about \"Conflicts.\""
   ]
  },
  {
   "cell_type": "code",
   "execution_count": null,
   "id": "a4c9d81f-ded7-4dc9-960c-35f7b48d7194",
   "metadata": {},
   "outputs": [],
   "source": [
    "library(tidyverse)\n",
    "library(haven)\n",
    "library(ggplot2)"
   ]
  },
  {
   "cell_type": "markdown",
   "id": "d4dc27fc-7788-4d61-8ce1-87c221baf159",
   "metadata": {},
   "source": [
    "For other libraries that are not yet installed, we have to first install them if we are working on the Ec 50 Jupyter Hub.  We'll first create a new folder in the working directory called \"Rpackages.\" Then we will install the <code>statar</code> package which we'll use for our binned scatter plots:"
   ]
  },
  {
   "cell_type": "code",
   "execution_count": null,
   "id": "180c2199-b14e-462c-b710-7fc173e4b07f",
   "metadata": {},
   "outputs": [],
   "source": [
    "dir = \"~/Rpackages\"\n",
    "if(!dir.exists(dir)) dir.create(dir)\n",
    "if (!require(statar)) install.packages(\"statar\", lib=dir)"
   ]
  },
  {
   "cell_type": "markdown",
   "id": "d6e7409b-d478-4f72-804e-82a8a152c870",
   "metadata": {},
   "source": [
    "Now we load the package:"
   ]
  },
  {
   "cell_type": "code",
   "execution_count": null,
   "id": "74f043a2-5ced-4eb6-a62f-15c053c9c32f",
   "metadata": {},
   "outputs": [],
   "source": [
    "library(statar, lib=\"~/Rpackages\")"
   ]
  },
  {
   "cell_type": "markdown",
   "id": "45c18191-f698-42e1-827d-62c81b3a0c4a",
   "metadata": {},
   "source": [
    "Now that the enviornment is set up, we can work on the questions."
   ]
  },
  {
   "cell_type": "markdown",
   "id": "d444cc18-6037-45c5-b5a5-704c8d6d2fca",
   "metadata": {},
   "source": [
    "## **QUESTIONS**\n",
    "\n",
    "1.  A *histogram* is a simple way to visualize the distribution of a\n",
    "    variable in a data set. Strictly speaking, a histogram is drawn so\n",
    "    that area represents probability. The height of the rectangles\n",
    "    corresponds to the proportion of the data falling into the range\n",
    "    indicated by the x-axis divided by the width of the rectangles. The\n",
    "    y-axis is in *density units*. The y-axis is scaled so that the area\n",
    "    of the rectangles (base times height) adds up to 1. Plot and save a\n",
    "    histogram of *kid_income*. Include the image in your lab solutions."
   ]
  },
  {
   "cell_type": "code",
   "execution_count": null,
   "id": "5cbc5174-0cf8-42d1-a282-4cb747320047",
   "metadata": {},
   "outputs": [],
   "source": [
    "# QUESTION 1 Code"
   ]
  },
  {
   "cell_type": "markdown",
   "id": "f18696d0-6943-45f3-89ed-70ae768dd19e",
   "metadata": {},
   "source": [
    "**Question 1 Answer**\n",
    "\n",
    "(Answer here; include your images if needed.)"
   ]
  },
  {
   "cell_type": "markdown",
   "id": "da6a8b83-9be4-49d6-bf7d-bf580b0dc89a",
   "metadata": {},
   "source": [
    "2.  The sample *mean* or arithmetic average is the “balance point” of\n",
    "    the histogram: “Think of the rectangles as weights and the x-axis of\n",
    "    the histogram as a wooden board. Below the wooden board is a steel\n",
    "    rod. Move the rod back and forth. Where the board balances is the\n",
    "    mean of the histogram” (Brightman 1986). It is often represented\n",
    "    with a bar over the variable, such as $\\overline{Y}$. It equals the\n",
    "    sum of the values of the variable $Y_{i}$ for each observation\n",
    "    divided by the total number of observations:\n",
    "    $\\overline{Y} = \\frac{1}{N}\\sum_{i = 1}^{N}Y_{i}$. Calculate and\n",
    "    report the sample mean of *kid_income*."
   ]
  },
  {
   "cell_type": "code",
   "execution_count": null,
   "id": "88110269-e782-4cc9-9bb7-4b4e43325217",
   "metadata": {},
   "outputs": [],
   "source": [
    "# QUESTION 2 Code"
   ]
  },
  {
   "cell_type": "markdown",
   "id": "5c575e75-62ef-4fa8-b4c7-90139104daf9",
   "metadata": {},
   "source": [
    "**Question 2 Answer**\n",
    "\n",
    "(Answer here; include your images if needed.)"
   ]
  },
  {
   "cell_type": "markdown",
   "id": "3f4991ad-23ed-45b8-94e8-fc9970cfd7ff",
   "metadata": {},
   "source": [
    "3.  What fraction of observations have *kid_income* below its mean? To\n",
    "    answer this question:\n",
    "    \n",
    "    1.  Generate a new variable called *below_mean* that equals 1 if\n",
    "    *kid_income* is (strictly) less than its mean, and 0 if it is\n",
    "    greater than or equal to its mean.\n",
    "\n",
    "    2.  The arithmetic average of the *indicator variable* *below_mean* is\n",
    "    the fraction of observations with *kid_income* below its mean.\n",
    "    Calculate and report the sample mean of *below_mean*.\n",
    "\n",
    "    3.  What features of the histogram from question 1 explains why this\n",
    "    fraction is *not* 50%?"
   ]
  },
  {
   "cell_type": "code",
   "execution_count": null,
   "id": "16a56d2d-a643-4309-ab06-643d9600238a",
   "metadata": {},
   "outputs": [],
   "source": [
    "# QUESTION 3 Code"
   ]
  },
  {
   "cell_type": "markdown",
   "id": "e5e5171d-886d-4553-ad44-38b1cb12e945",
   "metadata": {},
   "source": [
    "**Question 3 Answer**\n",
    "\n",
    "(Answer here; include your images if needed.)"
   ]
  },
  {
   "cell_type": "markdown",
   "id": "1e6932fb-fc51-4e44-8bb7-e276dc6ebe4d",
   "metadata": {},
   "source": [
    "4.  The sample *median* is the value for which 50% of the observations\n",
    "    have a value above the value and 50% have a value below the value.\n",
    "    The median is also called the 50th percentile, or sometimes\n",
    "    abbreviated p50. Calculate and report the sample median of\n",
    "    *kid_income*."
   ]
  },
  {
   "cell_type": "code",
   "execution_count": null,
   "id": "c4d83402-61fc-45c2-b14e-933a2fbf7749",
   "metadata": {},
   "outputs": [],
   "source": [
    "# QUESTION 4 Code"
   ]
  },
  {
   "cell_type": "markdown",
   "id": "8358247e-74a0-4c70-b3bc-d6fa2dc21eb1",
   "metadata": {},
   "source": [
    "**Question 4 Answer**\n",
    "\n",
    "(Answer here; include your images if needed.)"
   ]
  },
  {
   "cell_type": "markdown",
   "id": "a764ea3b-d6ca-44b5-8578-72ca8649a834",
   "metadata": {},
   "source": [
    "5.  The sample *standard deviation* is a measure of spread, sometimes\n",
    "    abbreviated $\\text{SD}$. It equals the square root of the sample\n",
    "    *variance*, which is the sum of the squared differences between the\n",
    "    values of the variable $Y_{i}$ for each observation and its mean\n",
    "    $\\overline{Y} = \\frac{1}{N}\\sum_{i = 1}^{N}Y_{i}$ divided by the\n",
    "    total number of observations:\n",
    "    $SD = \\sqrt{\\frac{1}{N}\\sum_{i = 1}^{N}\\left( Y_{i} - \\overline{Y} \\right)^{2}}$.\n",
    "    Calculate and report the sample standard deviation of *kid_income*.\n",
    "    Note that the units will be in dollars."
   ]
  },
  {
   "cell_type": "code",
   "execution_count": null,
   "id": "175bd4f7-3490-47aa-a0d9-fc58efbee4c9",
   "metadata": {},
   "outputs": [],
   "source": [
    "# QUESTION 5 Code"
   ]
  },
  {
   "cell_type": "markdown",
   "id": "5aca5255-99fa-4335-b09a-0500cd0b0b8e",
   "metadata": {},
   "source": [
    "**Question 5 Answer**\n",
    "\n",
    "(Answer here; include your images if needed.)"
   ]
  },
  {
   "cell_type": "markdown",
   "id": "edc0fb6d-60e2-4e17-91b3-cf98eaa4b355",
   "metadata": {},
   "source": [
    "6.  An important rule of thumb is that most of the data is usually\n",
    "    within one standard deviation of the mean and almost all of the data\n",
    "    is usually within two standard deviations of the mean. This is a\n",
    "    statement that we could make more precise mathematically, but here\n",
    "    we will simply verify this important rule of thumb in these data by\n",
    "    using *indicator variables* to calculate two statistics:\n",
    "\n",
    "    1.  What fraction of observations are within one $\\text{SD}$ of the\n",
    "        mean of *kid_income*?\n",
    "\n",
    "    2.  What fraction of observations are within two $\\text{SD}$s of the\n",
    "        mean of *kid_income*?\n",
    "\n",
    "*Hint:* Use the same trick as you used in question 3 by defining\n",
    "indicator variables and summarizing them to answer part a and part b."
   ]
  },
  {
   "cell_type": "code",
   "execution_count": null,
   "id": "10a61c23-e90e-4f17-bffb-e43370343196",
   "metadata": {},
   "outputs": [],
   "source": [
    "# QUESTION 6 Code"
   ]
  },
  {
   "cell_type": "markdown",
   "id": "6c7a915a-0431-4c29-b70e-f18d602a5496",
   "metadata": {},
   "source": [
    "**Question 6 Answer**\n",
    "\n",
    "(Answer here; include your images if needed.)"
   ]
  },
  {
   "cell_type": "markdown",
   "id": "7972592d-d4cd-40b7-b3e3-ccd854558014",
   "metadata": {},
   "source": [
    "7.  An important data transformation is the *percentile rank\n",
    "    transformation*, as we saw in Professor Chetty’s lecture and the\n",
    "    pre-recorded video for this week. In this question, you will\n",
    "    generate a new variable *kid_inc_rank* that equals *kid_income*\n",
    "    converted to *percentile ranks*, normalized so that the highest rank\n",
    "    is 100. To see how this works, proceed in the following steps:\n",
    "\n",
    "    1.  Use the rank() function to generate a new variable that equals\n",
    "        each observation’s rank based on *kid_income*. Start with just\n",
    "        their rank, without any normalization yet.\n",
    "\n",
    "    2.  Next sort the data by *kid_income*. Browse the data and examine\n",
    "        which observations are at the top and bottom of the data frame\n",
    "        and how this corresponds to their rank and the variable\n",
    "        *kid_income*\n",
    "\n",
    "    3.  Now normalize the rank so that the highest rank is 100,\n",
    "        generating the new variable *kid_inc_rank*\n",
    "\n",
    "    4.  Finally, browse the data once again and examine *kid_income* and\n",
    "        *kid_inc_rank* for observations that are at the top and bottom\n",
    "        of the data frame"
   ]
  },
  {
   "cell_type": "code",
   "execution_count": null,
   "id": "989e861d-747a-438b-8dd3-7da2c3d01310",
   "metadata": {},
   "outputs": [],
   "source": [
    "# QUESTION 7 Code"
   ]
  },
  {
   "cell_type": "markdown",
   "id": "c03b2981-14f2-4c11-9241-dc1362eef45b",
   "metadata": {},
   "source": [
    "**Question 7 Answer**\n",
    "\n",
    "(Answer here; include your images if needed.)"
   ]
  },
  {
   "cell_type": "markdown",
   "id": "d7038e55-a84a-49dd-a00d-fe80d5af45ff",
   "metadata": {},
   "source": [
    "8.  The percentile rank transformation has several useful properties. To\n",
    "    see a couple of them:\n",
    "\n",
    "    1.  Plot a histogram of *kid_inc_rank*. Notice that the histogram is\n",
    "        approximately uniformly distributed between 0 and 100. Include\n",
    "        your graph as an image in your solutions.\n",
    "\n",
    "    2.  Verify that the sample mean of *kid_inc_rank* approximately\n",
    "        equals its sample median."
   ]
  },
  {
   "cell_type": "code",
   "execution_count": null,
   "id": "6ca69ddd-0a80-4dbc-9ec1-3089c992d4e6",
   "metadata": {},
   "outputs": [],
   "source": [
    "# QUESTION 8 Code"
   ]
  },
  {
   "cell_type": "markdown",
   "id": "e612a711-3fd7-4b1d-813d-144873617752",
   "metadata": {},
   "source": [
    "**Question 8 Answer**\n",
    "\n",
    "(Answer here; include your images if needed.)"
   ]
  },
  {
   "cell_type": "markdown",
   "id": "61a4949f-9718-4535-be25-11b425fdd882",
   "metadata": {},
   "source": [
    "9.  Most of social science research is concerned with the relationship\n",
    "    *between* two or more variables. Visualize the relationship between\n",
    "    *kid_income* (y-axis) and *parent_income* (x-axis) measured in\n",
    "    dollars (not ranks) in two ways, commenting on which is a more\n",
    "    useful summary of the data and including your graphs in your\n",
    "    solutions:\n",
    "\n",
    "    1.  Scatter plot of the individual level data\n",
    "\n",
    "    2.  Binned scatter plot"
   ]
  },
  {
   "cell_type": "code",
   "execution_count": null,
   "id": "e73c4148-2f9e-4883-9553-8a3f72bb57f8",
   "metadata": {},
   "outputs": [],
   "source": [
    "# QUESTION 9 Code"
   ]
  },
  {
   "cell_type": "markdown",
   "id": "f0ca76e3-d906-4182-bdc6-9751a7074c58",
   "metadata": {},
   "source": [
    "**Question 9 Answer**\n",
    "\n",
    "(Answer here; include your images if needed.)"
   ]
  },
  {
   "cell_type": "markdown",
   "id": "578a5948-7eeb-411e-9eba-a079060d1be8",
   "metadata": {},
   "source": [
    "10.  In your judgement, are *kid_income* and *parent_income* *linearly*\n",
    "    related or *non-linearly* related? Explain clearly what you see in\n",
    "    your graphical analysis that leads you to your conclusions."
   ]
  },
  {
   "cell_type": "code",
   "execution_count": null,
   "id": "7c2c6c36-4b2d-4023-a5cb-02721cc72886",
   "metadata": {},
   "outputs": [],
   "source": [
    "# QUESTION 10 Code"
   ]
  },
  {
   "cell_type": "markdown",
   "id": "04535c44-a174-4289-b1de-7acc5b23f705",
   "metadata": {},
   "source": [
    "**Question 10 Answer**\n",
    "\n",
    "(Answer here; include your images if needed.)"
   ]
  },
  {
   "cell_type": "markdown",
   "id": "dccab9b5-1f64-40a0-bd75-d7a237a8c295",
   "metadata": {},
   "source": [
    " 11.  In social science research, random assignment is the ideal solution\n",
    "    to the “fundamental problem of causal inference,” because it ensures\n",
    "    comparability between treatment and control groups, and eliminates\n",
    "    confounding. To conclude this week’s lab, we will explore how random\n",
    "    assignment works in these data.\n",
    "\n",
    "      1. First, [set the \"seed\"](https://blog.stata.com/2016/03/10/how-to-generate-random-numbers-in-stata/) using your Harvard University ID number (set seed 12345 in stata or set.seed(12345) in R), which will make your simulation        reproducible, but different from your classmates’ simulations.     Then assign to each observation a random number drawn uniformly         between 0 and 1.\n",
    "      2. Generate a new variable *treatment_group* that equals 1 (“treatment group”) if the number generated in part a is greater than or equal to 0.5, and otherwise equals 0 when the number is         less than 0.5 (“control group”). How many observations are in        the treatment group? How many are in your control group?\n",
    "      3. Compute the sample mean and sample standard deviation of all the         variables listed in [Table 1](#Table1) separately for         observations in your treatment group and your control group.\n",
    "      4. What is the purpose of random assignment in an experiment?\n",
    "        this simulation, random assignment balances all the variables\n",
    "        listed in Table 1. Would you prefer to use random assignment to\n",
    "        achieve comparability? Or would you prefer to allocate\n",
    "        observations *yourself* to treatment and control groups to\n",
    "        ensure that both groups have exactly the same composition of the\n",
    "        variables listed in [Table 1](#Table1)? Explain why."
   ]
  },
  {
   "cell_type": "code",
   "execution_count": null,
   "id": "05a7e6a9-c5c1-4040-8295-1ded0ec4a952",
   "metadata": {},
   "outputs": [],
   "source": [
    "# QUESTION 11 Code"
   ]
  },
  {
   "cell_type": "markdown",
   "id": "e54f2b7e-684f-4e32-abcf-fa41b3399af6",
   "metadata": {},
   "source": [
    "**Question 11 Answer**\n",
    "\n",
    "(Answer here; include your images if needed.)"
   ]
  },
  {
   "cell_type": "markdown",
   "id": "9b0ba977-a33c-4856-82d7-f81f86690d7e",
   "metadata": {},
   "source": [
    "12. Create an annotated/commented do-file, .ipynb Python Notebook, or .R file that can replicate all your analyses above. This will be the final code that you submit\n",
    "    on Gradescope. The motivation for using do-files and .R files is\n",
    "    described on [the next page](#Dofiles), which has been adapted from\n",
    "    training materials used by [Innovations for Poverty Action\n",
    "    (IPA)](https://www.poverty-action.org/) and the [Abdul Latif Jameel\n",
    "    Poverty Action Lab (J-PAL)](https://www.povertyactionlab.org/)."
   ]
  },
  {
   "cell_type": "markdown",
   "id": "1bba2412-9304-404a-8819-e86281596251",
   "metadata": {},
   "source": [
    "## How to submit your assignment"
   ]
  },
  {
   "cell_type": "markdown",
   "id": "5e6a4f13-d028-4adc-b89f-985e87a229f2",
   "metadata": {},
   "source": [
    "|  |  |\n",
    "|--|--|\n",
    "| **Step 1** <br><br> Access the lab assignment under the “Assignments” tab on Canvas| ![](staff_images/step1.png) |\n",
    "| **Step 2** <br><br> Access Gradescope from Canvas| ![](staff_images/step2a.png) <br> ![ddd](staff_images/step2b.png)|\n",
    "| **Step 3** <br><br> Access the lab assignment on Gradescope| ![](staff_images/step3.png) |\n",
    "| **Step 4** <br><br> Upload your files<br><br> *Check [What files to submit](#What-files-to-submit) to confirm what files you need to submit.*| ![](staff_images/step4.png) |\n",
    "| **Step 5** <br><br> What you’ll see after submitting your lab assignment| ![](staff_images/step5.png) |\n",
    "| **Step 6** <br><br> Check your submitted files| ![](staff_images/step6.png) |\n",
    "| **Step 7** <br><br> You’ll receive an email confirmation as well| ![](staff_images/step7.png) |"
   ]
  },
  {
   "cell_type": "markdown",
   "id": "1cde4546-529a-4297-9987-786583f3279f",
   "metadata": {},
   "source": [
    "## What files to submit"
   ]
  },
  {
   "cell_type": "markdown",
   "id": "9a8d9af5-3e12-4086-993d-47cd1ff9305b",
   "metadata": {},
   "source": [
    "|  |  |\n",
    "|--|--|\n",
    "| **If you’re using Python Notebook to write your R code, and a document editor to write your answers** <br><br> ![](staff_images/editor.jpg)| <ul><li>Submit your .ipynb R code file replicating all your analyses above (with enough comments that a principal investigator on a research project would be able to follow and understand what each step of the code is doing). We need your raw code so that we can run your code ourselves if needed.</li><li>Submit your answers as a .pdf file. **Do not submit a .doc/.docx file (Word document)**, as we are unable to read those files on Gradescope.</li></ul><br>_For graphs, always be sure to save them as .png files and insert them into the answer document even if it was not explicitly asked._<br><br>**Important:** If we do not have both your .ipynb code and .pdf answer files, you will lose 1 out of the 3 lab assignment points.<br><br><span style=\"color:crimson\">**Word of caution:**</span> <u>**Do not**</u> use Python to perform your analysis in this Lab, unless when explicitly instructed. You will receive no points if you’re not using R or Stata for your analysis.|\n",
    "| **If you’re using a Python Notebook to write your R code AND to write your answers** <br><br> ![](staff_images/editor.jpg)| <ul><li>Submit your .ipynb R code file replicating all your analyses above (with enough comments that a principal investigator on a research project would be able to follow and understand what each step of the code is doing). We need your raw code so that we can run your code ourselves if needed.</li><li>•\tSubmit the .pdf version of your .ipynb file.</li></ul><br>_For graphs, always be sure to save them as .png files and insert them into the answer document even if it was not explicitly asked._<br><br>**Important:** If we do not have both your .ipynb code and .pdf answer files, you will lose 1 out of the 3 lab assignment points.<br><br>**Do not submit ONLY the .ipynb file**, as we might have trouble reading your answers using those files on Gradescope.<br><br><span style=\"color:crimson\">**Word of caution:**</span> <u>**Do not**</u> use Python to perform your analysis in this Lab, unless when explicitly instructed. You will receive no points if you’re not using R or Stata for your analysis.|png)|"
   ]
  },
  {
   "cell_type": "markdown",
   "id": "5a8b3d2e-ec30-4cee-970a-5e67245e2d48",
   "metadata": {},
   "source": [
    "## WHAT ARE DO-FILES AND .R FILES AND WHY DO WE NEED ONE?<span id=\"Dofiles\" class=\"anchor\"></span>"
   ]
  },
  {
   "cell_type": "markdown",
   "id": "7810b6e5-67aa-458e-bda1-87b18f65a8c4",
   "metadata": {},
   "source": [
    "*Let’s imagine the following situation - you just found out you have to\n",
    "present your results to a partner– all the averages you produced and\n",
    "comparisons you made. Suppose you also found out that the data you had\n",
    "used to produce all these results was not completely clean, and have\n",
    "only just fixed it. You now have incorrect numbers and need to re-do\n",
    "everything.*\n",
    "\n",
    "*How would you go about it? Would you reproduce everything you did for\n",
    "Lab 1 from scratch? Can you do it? How long would it take you to do?\n",
    "Just re-typing all those commands into Stata or R in order and checking\n",
    "them would take an hour.*\n",
    "\n",
    "*An important feature of any good research project is that the results\n",
    "should be reproducible. For Stata and R the easiest way to do this is to\n",
    "create a text file that lists all your commands in order, so anyone can\n",
    "re-run all your Stata or R work on a project anytime. Such text files\n",
    "that are produced within Stata or linked to Stata are called do-files,\n",
    "because they have an extension .do (like intro_exercise.do). Similarly,\n",
    "in R, these files are called .R files because they have an extension of\n",
    ".R. These files feed commands directly into Stata or R without you\n",
    "having to type or copy them into the command window.*\n",
    "\n",
    "*An added bonus is that having do-files and .R files makes it very easy\n",
    "to fix your typos, re-order commands, and create more complicated chains\n",
    "of commands that wouldn’t work otherwise. You can now quickly reproduce\n",
    "your work, correct it, adjust it, and build on it.*\n",
    "\n",
    "*Finally, do-files and .R files make it possible for multiple people to\n",
    "work on a project, which is necessary for collaborating with others or\n",
    "when you hand off a project to someone else.*"
   ]
  },
  {
   "cell_type": "markdown",
   "id": "0646d6b9-e2f5-46e2-b292-2fbfab7756e1",
   "metadata": {},
   "source": [
    "## DATA DESCRIPTION, FILE: nls6679.dta"
   ]
  },
  {
   "cell_type": "markdown",
   "id": "90028866-6efc-4b20-9ad5-c8fa7812c4bf",
   "metadata": {},
   "source": [
    "The data consist of $N = 6,042$ children from the 1966 and 1979 National\n",
    "Longitudinal Survey, born between 1948 and 1964. I measure the income of\n",
    "the children, when they have grown up and are between 26 and 43 years\n",
    "old. I measure their parents’ income in the first three waves of the\n",
    "survey when their child is 15-17 years old. The sample restrictions and\n",
    "income definitions are adapted from Davis and Mazumder (2023)."
   ]
  },
  {
   "cell_type": "markdown",
   "id": "a33f4b52-e427-4fcc-8111-1fd7599246c1",
   "metadata": {},
   "source": [
    "**TABLE 1**<span id=\"Table1\" class=\"anchor\"></span>\n",
    "\n",
    "Variable Definitions\n",
    "\n",
    "|     |                     |                                               |          |          |              |          |             |\n",
    "|-----|---------------------|-----------------------------------------------|----------|----------|--------------|----------|-------------|\n",
    "|     | **Variable**        | **Description**                               | **Obs.** | **Mean** | **St. Dev.** | **Min**  | **Max**     |\n",
    "|     | \\(1\\)               | \\(2\\)                                         | \\(3\\)    | \\(4\\)    | \\(5\\)        | \\(6\\)    | \\(7\\)       |\n",
    "| 1   | *id_num*            | Individual identifier                         | 6,042    | n/a      | n/a          | n/a      | n/a         |\n",
    "| 2   | *kid_income*        | Child's income (2015\\$) at age 26-43          | 6,042    | 70,425   | 56,437       | \\$544.20 | \\$687,304   |\n",
    "| 3   | *parent_income*     | Parents' income (2015\\$) when child is 15-17  | 6,042    | 66,549   | 49,178       | \\$813.50 | \\$1,235,852 |\n",
    "| 4   | *child_education*   | Child's education (highest grade completed)   | 6,042    | 13.19    | 2.278        | 8        | 18          |\n",
    "| 5   | *parent_education* | Parents' education (highest grade completed)  | 6,042    | 11.15    | 2.401        | 8        | 18          |\n",
    "| 6   | *siblings*          | Number of siblings                            | 6,042    | 3.611    | 2.515        | 0        | 16          |\n",
    "| 7   | *white*             | Child is white                                | 6,042    | 0.596    | 0.491        | 0        | 1           |\n",
    "| 8   | *black*             | Child is Black                                | 6,042    | 0.277    | 0.448        | 0        | 1           |\n",
    "| 9   | *female*            | Child is female                               | 6,042    | 0.481    | 0.500        | 0        | 1           |\n",
    "| 10  | *age*               | Child's age when their own income is measured | 6,042    | 34.32    | 6.261        | 26       | 43          |\n",
    "| 11  | *cohort*            | Child's year of birth                         | 6,042    | 1958     | 5.989        | 1948     | 1964        |\n",
    "\n",
    "*Note:* Table reports variable definitions and summary statistics for\n",
    "the data set."
   ]
  },
  {
   "cell_type": "markdown",
   "id": "5d3b72c0-0f0f-473d-89f7-1a5a9d6bb62e",
   "metadata": {},
   "source": [
    "## TABLE 2: R Commands<span id=\"Table3\" class=\"anchor\"></span>\n",
    "\n"
   ]
  },
  {
   "cell_type": "markdown",
   "id": "05b5215e-4d5e-46e0-a1c4-17c553facf56",
   "metadata": {},
   "source": [
    "</table>"
   ]
  },
  {
   "cell_type": "markdown",
   "id": "cf060c15-1e84-42c8-843f-f2d7f7cb08b8",
   "metadata": {},
   "source": [
    "<table>\n",
    "<tr>\n",
    "<td> <div style=\"width:600px\"><b>R command</b> </div></td> <td> <div style=\"width:600px\"><b>Description</b> </div> </td>\n",
    "</tr>\n",
    "<tr>\n",
    "<td> \n",
    "    \n",
    "```Rscript\n",
    "#clear the workspace\n",
    "rm(list=ls()) # removes all objects from the environment \n",
    "obcat('\\014') # clears the console\n",
    "\n",
    "#Install and load haven package\n",
    "if (!require(haven)) install.packages(\"haven\"); library(haven) \n",
    "\n",
    "#Load stata data set\n",
    "nlsy <- read_dta(\"data/nls6679.dta\") \n",
    "```\n",
    "\n",
    "</td>\n",
    "<td>\n",
    "This sequence of commands shows how to open Stata datasets in R.  The first block of code clears the work space.  The second block of code installs and loads the “haven” package.  The third block of code changes the directory to the location of the data and loads in nls6679.dta.\n",
    "</td>\n",
    "</tr>\n",
    "<tr>\n",
    "<td> \n",
    "    \n",
    "```Rscript\n",
    "#Histogram in base R\n",
    "hist(nlsy$yvar, probability = T)\n",
    "\n",
    "#Saving a histogram drawn in base R\n",
    "png(\"histogram_yvar.png\") \n",
    "hist(nlsy$yvar, probability = T)\n",
    "dev.off()\n",
    "\n",
    "#Histogram using ggplot\n",
    "if (!require(tidyverse)) install.packages(\"tidyverse\"); library(tidyverse)\n",
    "if (!require(ggplot2)) install.packages(\"ggplot2\"); library(ggplot2)\n",
    "\n",
    "ggplot(nlsy) +  geom_histogram(aes(x=yvar, y=..density..))\n",
    "ggsave(\"histogram_yvar.png\")\n",
    "\n",
    "#Use 50 bins, overriding default\n",
    "ggplot(nlsy) +  geom_histogram(aes(x=yvar, y=..density..), bins = 50)\n",
    "\n",
    "```\n",
    "\n",
    "</td>\n",
    "<td> \n",
    "These commands create and save histograms of a variable “yvar” which is a placeholder for the name of a variable in your data set.  The first line creates a histogram (letting R decide how many bins to use) using base R.  The probability = T option produces a histogram on the density scale.  The default is a bar graph of frequencies (counts). <br> <br>\n",
    "The second block of code shows how to save the histogram, by adding one line before and one line after the hist() function.  The png() function is used to name the file “histogram_yvar.png” that will be saved in the working directory.\n",
    "\n",
    "\n",
    "The third block of code shows how to do this using ggplot.  First start by installing the tidyverse library.  Then use ggplot to draw the graph.  The ggsave() line saves the graph as a .png file.\n",
    "\n",
    "\n",
    "The last line overrides the default to show 50 bins by adding the bins = 50 option.\n",
    "\n",
    "</td>\n",
    "</tr>\n",
    "<tr>\n",
    "<td> \n",
    "    \n",
    "```Rscript\n",
    "# summary stats, unweighted\n",
    "summary(nlsy$yvar)\n",
    "mean(nlsy$yvar, na.rm=TRUE)\n",
    "sd(nlsy$yvar, na.rm=TRUE)\n",
    "median((nlsy$yvar, na.rm=TRUE)\n",
    "```\n",
    "\n",
    "</td>\n",
    "<td> \n",
    "These commands show how to calculate unweighted summary statistics.  The variable yvar is a placeholder for a variable in a data frame called nlsy.  The “, na.rm=TRUE” argument takes care of missing values.\n",
    "\n",
    "</td>\n",
    "</tr>\n",
    "<tr>\n",
    "<td> \n",
    "    \n",
    "```Rscript\n",
    "#Create new indicator variable called dvar\n",
    "nlsy$dvar <- 0\n",
    "nlsy$dvar[which(nlsy$xvar >= 0.5)] <- 1\n",
    "\n",
    "#Alternatively, use ifelse() function \n",
    "nlsy$dvar <- ifelse(nlsy$xvar >= 0.5, 1, 0)\n",
    "```\n",
    "\n",
    "</td>\n",
    "<td> \n",
    "These commands illustrate an example of how to generate an indicator that equals 1 when xvar is greater than or equal to 0.5.  The first two lines show how to start a variable that always equals 0 and then replace it equal to 1 if a logical condition is satisfied (i.e., xvar >= 0.5)\n",
    "<br><br>\n",
    "An alternative way to do it uses the ifelse() function, which takes three arguments: the logical condition, the value if the condition is satisfied, and the value of the condition is not satisfied.\n",
    "\n",
    "\n",
    "</td>\n",
    "</tr>\n",
    "<tr>\n",
    "<td> \n",
    "    \n",
    "```Rscript\n",
    "#Indicator for being between two values\n",
    "\n",
    "#Step 1: define the upper value and the lower value\n",
    "upper_bound <- 52.1\n",
    "lower_bound <- 32.1\n",
    "\n",
    "#Step 2: use ifelse function to define the indicator variable\n",
    "nlsy$dvar <- ifelse(nlsy$xvar <= upper_bound & \n",
    "nlsy$xvar >= lower_bound, \n",
    "1, \n",
    "0)\n",
    "\n",
    "```\n",
    "\n",
    "</td>\n",
    "<td> \n",
    "This example shows how to generate a new indicator variable called dvar that equals 1 if another variable xvar is within 10 units of the number 42.1, similar to question 6.\n",
    "<br><br>\n",
    "I start by defining two objects (upper_bound and lower_bound) that store the values of these end points.\n",
    "<br><br>\n",
    "Then I use the ifelse() function, which takes three arguments: the logical condition, the value if the condition is satisfied, and the value of the condition is not satisfied.\n",
    "<br><br>\n",
    "The logical statement in this case involves two things both being true: yvar is less than upper_bound and yvar is greater than lower_bound. In R, this is done using the “&” symbol between the two conditions.  (In R, a vertical pipe “|” indicates “or”; and an exclamation mark “!” indicates “not”).  \n",
    "\n",
    "\n",
    "\n",
    "</td>\n",
    "</tr>\n",
    "<tr>\n",
    "<td> \n",
    "    \n",
    "```Rscript\n",
    "#Sort data from lowest to highest\n",
    "nlsy <- nlsy[order(nlsy$yvar),]\n",
    "View(nlsy)\n",
    "\n",
    "#Sort data in highest to lowest\n",
    "nlsy <- nlsy[order(-nlsy$yvar),]\n",
    "View(nlsy)\n",
    "```\n",
    "\n",
    "</td>\n",
    "<td> \n",
    "These commands show how to sort the data from lowest to highest based on the value of the variable yvar using the order() function.  In the second example, the data are instead sorted from highest to lowest using the order() function with a – in front of yvar.  The View() command allows you to browse the data.  Note that the V is capitalized.\n",
    "\n",
    "\n",
    "</td>\n",
    "</tr>\n",
    "<tr>\n",
    "<td> \n",
    "    \n",
    "```Rscript\n",
    "#Create variable in percentile ranks\n",
    "#Start by rank ordering the data based on yvar\n",
    "nlsy$yvar_rank <- rank(nlsy$yvar)\n",
    "\n",
    "#Store the maximum rank\n",
    "max_rank <- max(nlsy$yvar_rank)\n",
    "\n",
    "#Normalize rank so that maximum is 100\n",
    "nlsy$yvar_rank <- 100*nlsy$yvar_rank / max_rank\n",
    "\n",
    "\n",
    "# Create Function that will Calculate Percentile Ranks with NAs\n",
    "\n",
    "#Define function for percentile ranking\n",
    "percentile_rank<-function(variable){\n",
    "\n",
    "#Convert to ranks, taking care of potential missing values\n",
    " r <- ifelse(is.na(variable), NA, rank(variable, ties.method = \"average\"))\n",
    "\n",
    "#Return percentile rank = rank normalized so max is 100\n",
    "100*r/max(r, na.rm = T)\n",
    "}\n",
    "\n",
    "#Example using Function to Define ranks\n",
    "nlsy$yvar_rank <-with(nlsy, percentile_rank(yvar))\n",
    "\n",
    "```\n",
    "\n",
    "</td>\n",
    "<td> \n",
    "These commands show how to convert a variable yvar into percentile ranks, normalized so that the highest rank is 100. We start using the rank() function to generate a new variable that rank orders yvar.  Then to normalize the variable, we divide it by the maximum rank and multiply by 100.  The code uses the max() function in R in the denominator to do the normalization.\n",
    "<br><br>\n",
    "Unfortunately, the rank() function does not work as desired for data with missing values (NAs).  But we can create our own function to do what we want that will work as intended in more complex data sets.  This second block of code shows how to define a new function called percentile_rank() that will generate percentile ranks that assign missing values to NAs, and returns the percentile rank normalized to have a maximum rank of 100.\n",
    "<br><br>\n",
    "The last line shows how to use the function to create the variable yvar_rank.  The with() function in R takes two arguments: a data frame and an expression.  The data frame argument is nlsy and the expression applies the new function we wrote to the variable yvar: percentile_rank(yvar).\n",
    "\n",
    "\n",
    "\n",
    "</td>\n",
    "</tr>\n",
    "<tr>\n",
    "<td> \n",
    "    \n",
    "```Rscript\n",
    "# Install and load ggplot2 package\n",
    "if (!require(tidyverse)) install.packages(\"tidyverse\"); library(tidyverse)\n",
    "if (!require(ggplot2)) install.packages(\"ggplot2\"); library(ggplot2)\n",
    "\n",
    "# Draw scatter plot with linear fit line \n",
    "ggplot(nlsy) + geom_point(aes(x = xvar1, y = yvar)) + \n",
    "  geom_smooth(aes(x = xvar, y = yvar), method = \"lm\", se = F)\n",
    "\n",
    "#Save graph as figure1a.png\n",
    "ggsave(\"figure1a.png\")\n",
    "\n",
    "```\n",
    "\n",
    "</td>\n",
    "<td> \n",
    "These commands show how to draw a scatter plot of yvar against xvar1.  The geom_smooth part of the code adds an OLS regression line.  The last line saves the graph as a .png file.\n",
    "\n",
    "\n",
    "</td>\n",
    "</tr>\n",
    "<tr>\n",
    "<td> \n",
    "    \n",
    "```Rscript\n",
    "#install ggplot and statar packages\n",
    "if (!require(tidyverse)) install.packages(\"tidyverse\"); library(tidyverse)\n",
    "if (!require(ggplot2)) install.packages(\"ggplot2\"); library(ggplot2)\n",
    "if (!require(statar)) install.packages(\"statar\"); library(statar)\n",
    "\n",
    "#Bin scatter plot – connected dots\n",
    "ggplot(nlsy, aes(x = xvar  , y = yvar)) +\n",
    "  stat_binmean(n = 20, geom = \"line\") + \n",
    "  stat_binmean(n = 20, geom = \"point\")\n",
    "\n",
    "#Save graph\n",
    "ggsave(\"binscatter_connected.png\")\n",
    "\n",
    "#Bin scatter plot – linear best fit line\n",
    "ggplot(nlsy, aes(x = xvar , y = yvar)) +\n",
    "  stat_smooth(method = \"lm\", se = FALSE) + \n",
    "  stat_binmean(n = 20, geom = \"point\")\n",
    "\n",
    "#Save graph\n",
    "ggsave(\"binscatter_bestfitline.png\")\n",
    "\n",
    "\n",
    "\n",
    "```\n",
    "\n",
    "</td>\n",
    "<td> \n",
    "These commands show how to create binned scatter plots.  The first lines install packages, including the statar package so that we can use the stat_binmean() function with ggplot.  \n",
    "<br><br>\n",
    "The second block of code shows how to create a binned scatter plot where a variable yvar is along the y-axis and a variable xvar is along the x-axis.  It will connect the dots with a line.  It then uses ggsave to save the graph.\n",
    "<br><br>\n",
    "The third block of code shows how to create a binned scatter plot where a variable yvar is along the y-axis and a variable xvar is along the x-axis.  It will also plot a linear best fit line. It then uses ggsave to save the graph.\n",
    "\n",
    "\n",
    "\n",
    "</td>\n",
    "</tr>\n",
    "<tr>\n",
    "<td> \n",
    "    \n",
    "```Rscript\n",
    "#Store HUID\n",
    "HUID <- 505050505\n",
    "\n",
    "#Set seed so that simulations are replicable\n",
    "set.seed(HUID)\n",
    "\n",
    "#Uniformly distributed random number between 0 and 1\n",
    "nlsy$random_number <- runif(length(nlsy$yvar))\n",
    "\n",
    "```\n",
    "\n",
    "</td>\n",
    "<td> \n",
    "These commands show how to randomly assign a number between 0 and 1 to each observation.  We start by <a href=\"https://blog.stata.com/2016/03/10/how-to-generate-random-numbers-in-stata/\">setting the “seed”</a>.\n",
    "<br><br>\n",
    "Then we generate a new variable called random_number that equals runif().  runif() is a function that R uses to create a pseudo random number that has a uniform distribution. \n",
    "<br><br>\n",
    "Inside the argument of runif() is length(nlsy$yvar), which counts the number of observations.  The length() function returns the length of an object in R.\n",
    "\n",
    "</td>\n",
    "</tr>\n",
    "<tr>\n",
    "<td> \n",
    "    \n",
    "```Rscript\n",
    "#Report total number of observations in treatment group \n",
    "sum(nlsy$treatment_group)\n",
    "\n",
    "#Report total number of observations in control group\n",
    "sum(1-nlsy$treatment_group)\n",
    "\n",
    "```\n",
    "\n",
    "</td>\n",
    "<td> \n",
    "This code shows how to count how many observations have treatment_group equal to 1 and how many observations have treatment_group equal to 0.\n",
    "<br><br>\n",
    "The sum() command adds up the indicator variable across all observations, yielding the total number of observations with treatment_group equal to 1.  Summing the values of 1 minus treatment_group gives the total number of observations with treatment_group equal to 0.\n",
    "\n",
    "</td>\n",
    "</tr>\n",
    "<tr>\n",
    "<td> \n",
    "    \n",
    "```Rscript\n",
    "#Report summary statistics split by different groups\n",
    "\n",
    "#Various ways to do this.  First tapply()\n",
    "tapply(nlsy$yvar, nlsy$treatment_group, mean)\n",
    "tapply(nlsy$yvar, nlsy$treatment_group, sd)\n",
    "\n",
    "#Alternatively, by()\n",
    "by(nlsy$yvar, list(nlsy$treatment_group), mean)\n",
    "by(nlsy$yvar, list(nlsy$treatment_group), sd)\n",
    "\n",
    "\n",
    "#Third - Tidyverse summarise_all() \n",
    "nlsy %>% group_by(treatment_group) %>% summarise_all(\"mean\")\n",
    "nlsy %>% group_by(treatment_group) %>% summarise_all(\"sd\")\n",
    "\n",
    "#To report all variables, add this line before running:\n",
    "options(dplyr.width = Inf)\n",
    "nlsy %>% group_by(treatment_group) %>% summarise_all(\"mean\")\n",
    "nlsy %>% group_by(treatment_group) %>% summarise_all(\"sd\")\n",
    "```\n",
    "\n",
    "</td>\n",
    "<td> \n",
    "These commands shows how to report summary statistics separately by groups defined by another variable, enabling for example summary statistics to be computed separately for a treatment group and a control group.\n",
    "<br><br>\n",
    "The first example uses the tapply() function to report the mean and standard deviation of yvar grouped by another variable treatment_group.\n",
    "<br><br>\n",
    "The second example uses the by() function to do the same thing.  \n",
    "<br><br>\n",
    "The third example uses a combination of commands from the tidyverse library to report the means and standard deviations for all the variables in the data frame all at once with summarise_all() .  \n",
    "<br>\n",
    "By default, only the first several variables will be displayed.  The options(dplyr.width = Inf) line will change the default to show summary statistics for all the variables\n",
    "\n",
    "\n",
    "</td>\n",
    "</tr>\n",
    "</table>"
   ]
  }
 ],
 "metadata": {
  "kernelspec": {
   "display_name": "R",
   "language": "R",
   "name": "ir"
  },
  "language_info": {
   "codemirror_mode": "r",
   "file_extension": ".r",
   "mimetype": "text/x-r-source",
   "name": "R",
   "pygments_lexer": "r",
   "version": "4.3.1"
  }
 },
 "nbformat": 4,
 "nbformat_minor": 5
}
